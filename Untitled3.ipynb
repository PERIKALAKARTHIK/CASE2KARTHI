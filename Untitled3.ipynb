{
  "nbformat": 4,
  "nbformat_minor": 0,
  "metadata": {
    "colab": {
      "provenance": [],
      "authorship_tag": "ABX9TyOO/GUdsDCKpZgVqLF4j6F4",
      "include_colab_link": true
    },
    "kernelspec": {
      "name": "python3",
      "display_name": "Python 3"
    },
    "language_info": {
      "name": "python"
    }
  },
  "cells": [
    {
      "cell_type": "markdown",
      "metadata": {
        "id": "view-in-github",
        "colab_type": "text"
      },
      "source": [
        "<a href=\"https://colab.research.google.com/github/PERIKALAKARTHIK/CASE2KARTHI/blob/main/Untitled3.ipynb\" target=\"_parent\"><img src=\"https://colab.research.google.com/assets/colab-badge.svg\" alt=\"Open In Colab\"/></a>"
      ]
    },
    {
      "cell_type": "code",
      "execution_count": 1,
      "metadata": {
        "colab": {
          "base_uri": "https://localhost:8080/"
        },
        "id": "glf4mrSKI2-Q",
        "outputId": "3ac7b8b0-9457-4c68-b927-ee948331cd50"
      },
      "outputs": [
        {
          "output_type": "stream",
          "name": "stdout",
          "text": [
            "['normal']\n",
            "0.8888888888888888\n"
          ]
        },
        {
          "output_type": "stream",
          "name": "stderr",
          "text": [
            "/usr/local/lib/python3.10/dist-packages/sklearn/neighbors/_classification.py:238: DataConversionWarning: A column-vector y was passed when a 1d array was expected. Please change the shape of y to (n_samples,), for example using ravel().\n",
            "  return self._fit(X, y)\n",
            "/usr/local/lib/python3.10/dist-packages/sklearn/base.py:493: UserWarning: X does not have valid feature names, but KNeighborsClassifier was fitted with feature names\n",
            "  warnings.warn(\n"
          ]
        }
      ],
      "source": [
        "import pandas as bhanu\n",
        "from sklearn.neighbors import KNeighborsClassifier\n",
        "reddy=bhanu.read_csv('bmi.csv')\n",
        "Feature=bhanu.read_csv('bmi.csv',usecols=[0,1])\n",
        "label=bhanu.read_csv('bmi.csv',usecols=[2])\n",
        "rehuman=KNeighborsClassifier(n_neighbors=2)\n",
        "rehuman.fit(Feature,label)\n",
        "print(rehuman.predict([[170,57]]))\n",
        "print(rehuman.score(Feature,label))"
      ]
    },
    {
      "cell_type": "code",
      "source": [
        "import pandas as bhanu\n",
        "from sklearn.neighbors import KNeighborsClassifier\n",
        "reddy=bhanu.read_csv('drowsy.csv')\n",
        "Feature=bhanu.read_csv('drowsy.csv',usecols=[0,1,2,3])\n",
        "label=bhanu.read_csv('drowsy.csv',usecols=[4])\n",
        "rehuman=KNeighborsClassifier(n_neighbors=2)\n",
        "rehuman.fit(Feature,label)\n",
        "print(rehuman.predict([[0.3,0.5,0.25,0.9]]))\n",
        "print(rehuman.score(Feature,label))"
      ],
      "metadata": {
        "colab": {
          "base_uri": "https://localhost:8080/"
        },
        "id": "kMg39S7LY0HW",
        "outputId": "d544c790-e50b-498b-f474-d94338719d6c"
      },
      "execution_count": 4,
      "outputs": [
        {
          "output_type": "stream",
          "name": "stdout",
          "text": [
            "['Drowsy']\n",
            "0.875\n"
          ]
        },
        {
          "output_type": "stream",
          "name": "stderr",
          "text": [
            "/usr/local/lib/python3.10/dist-packages/sklearn/neighbors/_classification.py:238: DataConversionWarning: A column-vector y was passed when a 1d array was expected. Please change the shape of y to (n_samples,), for example using ravel().\n",
            "  return self._fit(X, y)\n",
            "/usr/local/lib/python3.10/dist-packages/sklearn/base.py:493: UserWarning: X does not have valid feature names, but KNeighborsClassifier was fitted with feature names\n",
            "  warnings.warn(\n"
          ]
        }
      ]
    },
    {
      "cell_type": "code",
      "source": [],
      "metadata": {
        "id": "hZtmKEPaZfFC"
      },
      "execution_count": null,
      "outputs": []
    }
  ]
}